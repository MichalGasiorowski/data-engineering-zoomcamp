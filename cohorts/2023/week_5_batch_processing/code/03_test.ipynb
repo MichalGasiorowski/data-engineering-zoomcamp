{
 "cells": [
  {
   "cell_type": "code",
   "execution_count": 6,
   "id": "72505747",
   "metadata": {},
   "outputs": [],
   "source": [
    "import pyspark"
   ]
  },
  {
   "cell_type": "code",
   "execution_count": 7,
   "id": "bd55afbe",
   "metadata": {},
   "outputs": [
    {
     "data": {
      "text/plain": "'/home/michal/.virtualenvs/data-engineering-zoomcamp/lib/python3.9/site-packages/pyspark/__init__.py'"
     },
     "execution_count": 7,
     "metadata": {},
     "output_type": "execute_result"
    }
   ],
   "source": [
    "pyspark.__file__"
   ]
  },
  {
   "cell_type": "code",
   "execution_count": 8,
   "id": "29f1cf4c",
   "metadata": {},
   "outputs": [],
   "source": [
    "from pyspark.sql import SparkSession"
   ]
  },
  {
   "cell_type": "code",
   "execution_count": 9,
   "id": "cf6d80ad",
   "metadata": {},
   "outputs": [
    {
     "name": "stdout",
     "output_type": "stream",
     "text": [
      "23/03/01 17:58:40 WARN Utils: Your hostname, pop-os resolves to a loopback address: 127.0.1.1; using 192.168.0.129 instead (on interface wlp4s0)\n",
      "23/03/01 17:58:40 WARN Utils: Set SPARK_LOCAL_IP if you need to bind to another address\n"
     ]
    },
    {
     "name": "stderr",
     "output_type": "stream",
     "text": [
      "Setting default log level to \"WARN\".\n",
      "To adjust logging level use sc.setLogLevel(newLevel). For SparkR, use setLogLevel(newLevel).\n"
     ]
    },
    {
     "name": "stdout",
     "output_type": "stream",
     "text": [
      "23/03/01 17:58:40 WARN NativeCodeLoader: Unable to load native-hadoop library for your platform... using builtin-java classes where applicable\n",
      "23/03/01 17:58:41 WARN Utils: Service 'SparkUI' could not bind on port 4040. Attempting port 4041.\n",
      "23/03/01 17:58:41 WARN Utils: Service 'SparkUI' could not bind on port 4041. Attempting port 4042.\n",
      "23/03/01 17:58:41 WARN Utils: Service 'SparkUI' could not bind on port 4042. Attempting port 4043.\n"
     ]
    }
   ],
   "source": [
    "spark = SparkSession.builder \\\n",
    "    .master(\"local[*]\") \\\n",
    "    .appName('test') \\\n",
    "    .getOrCreate()"
   ]
  },
  {
   "cell_type": "code",
   "execution_count": 3,
   "id": "3f604529",
   "metadata": {},
   "outputs": [
    {
     "name": "stdout",
     "output_type": "stream",
     "text": [
      "--2023-03-01 17:57:08--  https://s3.amazonaws.com/nyc-tlc/misc/taxi+_zone_lookup.csv\r\n",
      "Resolving s3.amazonaws.com (s3.amazonaws.com)... 52.217.116.128, 52.217.86.30, 52.216.110.157, ...\r\n",
      "Connecting to s3.amazonaws.com (s3.amazonaws.com)|52.217.116.128|:443... connected.\r\n",
      "HTTP request sent, awaiting response... 200 OK\r\n",
      "Length: 12322 (12K) [application/octet-stream]\r\n",
      "Saving to: ‘taxi+_zone_lookup.csv’\r\n",
      "\r\n",
      "taxi+_zone_lookup.c 100%[===================>]  12.03K  --.-KB/s    in 0s      \r\n",
      "\r\n",
      "2023-03-01 17:57:09 (361 MB/s) - ‘taxi+_zone_lookup.csv’ saved [12322/12322]\r\n",
      "\r\n"
     ]
    }
   ],
   "source": [
    "!wget https://s3.amazonaws.com/nyc-tlc/misc/taxi+_zone_lookup.csv"
   ]
  },
  {
   "cell_type": "code",
   "execution_count": 4,
   "id": "12342345",
   "metadata": {},
   "outputs": [
    {
     "name": "stdout",
     "output_type": "stream",
     "text": [
      "\"LocationID\",\"Borough\",\"Zone\",\"service_zone\"\r\n",
      "1,\"EWR\",\"Newark Airport\",\"EWR\"\r\n",
      "2,\"Queens\",\"Jamaica Bay\",\"Boro Zone\"\r\n",
      "3,\"Bronx\",\"Allerton/Pelham Gardens\",\"Boro Zone\"\r\n",
      "4,\"Manhattan\",\"Alphabet City\",\"Yellow Zone\"\r\n",
      "5,\"Staten Island\",\"Arden Heights\",\"Boro Zone\"\r\n",
      "6,\"Staten Island\",\"Arrochar/Fort Wadsworth\",\"Boro Zone\"\r\n",
      "7,\"Queens\",\"Astoria\",\"Boro Zone\"\r\n",
      "8,\"Queens\",\"Astoria Park\",\"Boro Zone\"\r\n",
      "9,\"Queens\",\"Auburndale\",\"Boro Zone\"\r\n"
     ]
    }
   ],
   "source": [
    "!head taxi+_zone_lookup.csv"
   ]
  },
  {
   "cell_type": "code",
   "execution_count": 10,
   "id": "809464d0",
   "metadata": {},
   "outputs": [],
   "source": [
    "df = spark.read \\\n",
    "    .option(\"header\", \"true\") \\\n",
    "    .csv('taxi+_zone_lookup.csv')"
   ]
  },
  {
   "cell_type": "code",
   "execution_count": 11,
   "id": "e36dd996",
   "metadata": {},
   "outputs": [
    {
     "name": "stdout",
     "output_type": "stream",
     "text": [
      "+----------+-------------+--------------------+------------+\n",
      "|LocationID|      Borough|                Zone|service_zone|\n",
      "+----------+-------------+--------------------+------------+\n",
      "|         1|          EWR|      Newark Airport|         EWR|\n",
      "|         2|       Queens|         Jamaica Bay|   Boro Zone|\n",
      "|         3|        Bronx|Allerton/Pelham G...|   Boro Zone|\n",
      "|         4|    Manhattan|       Alphabet City| Yellow Zone|\n",
      "|         5|Staten Island|       Arden Heights|   Boro Zone|\n",
      "|         6|Staten Island|Arrochar/Fort Wad...|   Boro Zone|\n",
      "|         7|       Queens|             Astoria|   Boro Zone|\n",
      "|         8|       Queens|        Astoria Park|   Boro Zone|\n",
      "|         9|       Queens|          Auburndale|   Boro Zone|\n",
      "|        10|       Queens|        Baisley Park|   Boro Zone|\n",
      "|        11|     Brooklyn|          Bath Beach|   Boro Zone|\n",
      "|        12|    Manhattan|        Battery Park| Yellow Zone|\n",
      "|        13|    Manhattan|   Battery Park City| Yellow Zone|\n",
      "|        14|     Brooklyn|           Bay Ridge|   Boro Zone|\n",
      "|        15|       Queens|Bay Terrace/Fort ...|   Boro Zone|\n",
      "|        16|       Queens|             Bayside|   Boro Zone|\n",
      "|        17|     Brooklyn|             Bedford|   Boro Zone|\n",
      "|        18|        Bronx|        Bedford Park|   Boro Zone|\n",
      "|        19|       Queens|           Bellerose|   Boro Zone|\n",
      "|        20|        Bronx|             Belmont|   Boro Zone|\n",
      "+----------+-------------+--------------------+------------+\n",
      "only showing top 20 rows\n",
      "\n"
     ]
    }
   ],
   "source": [
    "df.show()"
   ]
  },
  {
   "cell_type": "code",
   "execution_count": 12,
   "id": "cb547351",
   "metadata": {
    "scrolled": true
   },
   "outputs": [],
   "source": [
    "df.write.parquet('zones')"
   ]
  },
  {
   "cell_type": "code",
   "execution_count": 13,
   "id": "02fe2bdb",
   "metadata": {},
   "outputs": [
    {
     "name": "stdout",
     "output_type": "stream",
     "text": [
      "total 156K\r\n",
      "-rw-rw-r-- 1 michal michal 7.5K Mar  1 17:59 03_test.ipynb\r\n",
      "-rw-rw-r-- 1 michal michal  18K Jan 19 19:55 04_pyspark.ipynb\r\n",
      "-rw-rw-r-- 1 michal michal  33K Jan 19 19:55 05_taxi_schema.ipynb\r\n",
      "-rw-rw-r-- 1 michal michal 2.6K Jan 19 19:55 06_spark_sql_big_query.py\r\n",
      "-rw-rw-r-- 1 michal michal 8.7K Jan 19 19:55 06_spark_sql.ipynb\r\n",
      "-rw-rw-r-- 1 michal michal 2.5K Jan 19 19:55 06_spark_sql.py\r\n",
      "-rw-rw-r-- 1 michal michal 7.6K Jan 19 19:55 07_groupby_join.ipynb\r\n",
      "-rw-rw-r-- 1 michal michal  12K Jan 19 19:55 08_rdds.ipynb\r\n",
      "-rw-rw-r-- 1 michal michal 4.3K Jan 19 19:55 09_spark_gcs.ipynb\r\n",
      "-rw-rw-r-- 1 michal michal 2.9K Jan 19 19:55 cloud.md\r\n",
      "-rwxrwxr-x 1 michal michal  544 Mar  1 14:41 download_data.sh\r\n",
      "-rw-rw-r-- 1 michal michal  16K Mar  1 17:57 homework.ipynb\r\n",
      "-rw-rw-r-- 1 michal michal  13K Aug 17  2016 taxi+_zone_lookup.csv\r\n",
      "drwxr-xr-x 2 michal michal 4.0K Mar  1 17:58 zones\r\n"
     ]
    }
   ],
   "source": [
    "!ls -lh"
   ]
  },
  {
   "cell_type": "code",
   "execution_count": null,
   "id": "659f0812",
   "metadata": {},
   "outputs": [],
   "source": []
  }
 ],
 "metadata": {
  "kernelspec": {
   "display_name": "Python 3 (ipykernel)",
   "language": "python",
   "name": "python3"
  },
  "language_info": {
   "codemirror_mode": {
    "name": "ipython",
    "version": 3
   },
   "file_extension": ".py",
   "mimetype": "text/x-python",
   "name": "python",
   "nbconvert_exporter": "python",
   "pygments_lexer": "ipython3",
   "version": "3.9.7"
  }
 },
 "nbformat": 4,
 "nbformat_minor": 5
}
