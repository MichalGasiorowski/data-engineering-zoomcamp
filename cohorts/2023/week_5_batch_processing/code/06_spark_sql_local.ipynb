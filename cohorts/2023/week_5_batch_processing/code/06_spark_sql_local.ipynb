{
 "cells": [
  {
   "cell_type": "code",
   "execution_count": 1,
   "id": "3307b886",
   "metadata": {},
   "outputs": [
    {
     "name": "stdout",
     "output_type": "stream",
     "text": [
      "23/03/08 15:52:19 WARN Utils: Your hostname, pop-os resolves to a loopback address: 127.0.1.1; using 192.168.0.129 instead (on interface wlp4s0)\n",
      "23/03/08 15:52:19 WARN Utils: Set SPARK_LOCAL_IP if you need to bind to another address\n"
     ]
    },
    {
     "name": "stderr",
     "output_type": "stream",
     "text": [
      "Setting default log level to \"WARN\".\n",
      "To adjust logging level use sc.setLogLevel(newLevel). For SparkR, use setLogLevel(newLevel).\n"
     ]
    },
    {
     "name": "stdout",
     "output_type": "stream",
     "text": [
      "23/03/08 15:52:20 WARN NativeCodeLoader: Unable to load native-hadoop library for your platform... using builtin-java classes where applicable\n"
     ]
    }
   ],
   "source": [
    "import pyspark\n",
    "from pyspark.sql import SparkSession\n",
    "\n",
    "spark = SparkSession.builder \\\n",
    "    .master(\"spark://pop-os.localdomain:7077\") \\\n",
    "    .appName('test') \\\n",
    "    .getOrCreate()"
   ]
  },
  {
   "cell_type": "code",
   "execution_count": 2,
   "outputs": [
    {
     "data": {
      "text/plain": "<pyspark.sql.session.SparkSession at 0x7fdc04fcd5e0>",
      "text/html": "\n            <div>\n                <p><b>SparkSession - in-memory</b></p>\n                \n        <div>\n            <p><b>SparkContext</b></p>\n\n            <p><a href=\"http://192.168.0.129:4040\">Spark UI</a></p>\n\n            <dl>\n              <dt>Version</dt>\n                <dd><code>v3.3.2</code></dd>\n              <dt>Master</dt>\n                <dd><code>spark://pop-os.localdomain:7077</code></dd>\n              <dt>AppName</dt>\n                <dd><code>test</code></dd>\n            </dl>\n        </div>\n        \n            </div>\n        "
     },
     "execution_count": 2,
     "metadata": {},
     "output_type": "execute_result"
    }
   ],
   "source": [
    "spark"
   ],
   "metadata": {
    "collapsed": false
   }
  },
  {
   "cell_type": "code",
   "execution_count": 3,
   "id": "1ee1eb1d",
   "metadata": {},
   "outputs": [],
   "source": [
    "df_green = spark.read.parquet('data/pq/green/*/*')"
   ]
  },
  {
   "cell_type": "code",
   "execution_count": null,
   "id": "0ca5ee99",
   "metadata": {},
   "outputs": [],
   "source": []
  },
  {
   "cell_type": "code",
   "execution_count": 4,
   "id": "649bb4da",
   "metadata": {},
   "outputs": [],
   "source": [
    "df_green = df_green \\\n",
    "    .withColumnRenamed('lpep_pickup_datetime', 'pickup_datetime') \\\n",
    "    .withColumnRenamed('lpep_dropoff_datetime', 'dropoff_datetime')"
   ]
  },
  {
   "cell_type": "code",
   "execution_count": 5,
   "id": "90cd6845",
   "metadata": {},
   "outputs": [],
   "source": [
    "df_yellow = spark.read.parquet('data/pq/yellow/*/*')"
   ]
  },
  {
   "cell_type": "code",
   "execution_count": 6,
   "id": "88822efd",
   "metadata": {},
   "outputs": [],
   "source": [
    "df_yellow = df_yellow \\\n",
    "    .withColumnRenamed('tpep_pickup_datetime', 'pickup_datetime') \\\n",
    "    .withColumnRenamed('tpep_dropoff_datetime', 'dropoff_datetime')"
   ]
  },
  {
   "cell_type": "code",
   "execution_count": 7,
   "id": "610167a2",
   "metadata": {},
   "outputs": [],
   "source": [
    "common_colums = []\n",
    "\n",
    "yellow_columns = set(df_yellow.columns)\n",
    "\n",
    "for col in df_green.columns:\n",
    "    if col in yellow_columns:\n",
    "        common_colums.append(col)"
   ]
  },
  {
   "cell_type": "code",
   "execution_count": 8,
   "id": "839d773f",
   "metadata": {},
   "outputs": [],
   "source": [
    "from pyspark.sql import functions as F"
   ]
  },
  {
   "cell_type": "code",
   "execution_count": 9,
   "id": "2498810a",
   "metadata": {},
   "outputs": [],
   "source": [
    "df_green_sel = df_green \\\n",
    "    .select(common_colums) \\\n",
    "    .withColumn('service_type', F.lit('green'))"
   ]
  },
  {
   "cell_type": "code",
   "execution_count": 10,
   "id": "19032efc",
   "metadata": {},
   "outputs": [],
   "source": [
    "df_yellow_sel = df_yellow \\\n",
    "    .select(common_colums) \\\n",
    "    .withColumn('service_type', F.lit('yellow'))"
   ]
  },
  {
   "cell_type": "code",
   "execution_count": 11,
   "id": "f5b0f3d1",
   "metadata": {},
   "outputs": [],
   "source": [
    "df_trips_data = df_green_sel.unionAll(df_yellow_sel)"
   ]
  },
  {
   "cell_type": "code",
   "execution_count": 12,
   "id": "1bed8b33",
   "metadata": {},
   "outputs": [
    {
     "name": "stderr",
     "output_type": "stream",
     "text": [
      "[Stage 2:====================================================>    (34 + 3) / 37]\r"
     ]
    },
    {
     "name": "stdout",
     "output_type": "stream",
     "text": [
      "+------------+--------+\n",
      "|service_type|   count|\n",
      "+------------+--------+\n",
      "|       green| 2304517|\n",
      "|      yellow|39649199|\n",
      "+------------+--------+\n",
      "\n"
     ]
    },
    {
     "name": "stderr",
     "output_type": "stream",
     "text": [
      "                                                                                \r"
     ]
    }
   ],
   "source": [
    "df_trips_data.groupBy('service_type').count().show()"
   ]
  },
  {
   "cell_type": "code",
   "execution_count": 13,
   "id": "28cc8fa3",
   "metadata": {},
   "outputs": [
    {
     "data": {
      "text/plain": "['VendorID',\n 'pickup_datetime',\n 'dropoff_datetime',\n 'store_and_fwd_flag',\n 'RatecodeID',\n 'PULocationID',\n 'DOLocationID',\n 'passenger_count',\n 'trip_distance',\n 'fare_amount',\n 'extra',\n 'mta_tax',\n 'tip_amount',\n 'tolls_amount',\n 'improvement_surcharge',\n 'total_amount',\n 'payment_type',\n 'congestion_surcharge',\n 'service_type']"
     },
     "execution_count": 13,
     "metadata": {},
     "output_type": "execute_result"
    }
   ],
   "source": [
    "df_trips_data.columns"
   ]
  },
  {
   "cell_type": "code",
   "execution_count": 14,
   "id": "36e90cbc",
   "metadata": {},
   "outputs": [
    {
     "name": "stderr",
     "output_type": "stream",
     "text": [
      "/home/michal/.virtualenvs/data-engineering-zoomcamp/lib/python3.9/site-packages/pyspark/sql/dataframe.py:229: FutureWarning: Deprecated in 2.0, use createOrReplaceTempView instead.\n",
      "  warnings.warn(\"Deprecated in 2.0, use createOrReplaceTempView instead.\", FutureWarning)\n"
     ]
    }
   ],
   "source": [
    "df_trips_data.registerTempTable('trips_data')"
   ]
  },
  {
   "cell_type": "code",
   "execution_count": 15,
   "id": "d0e01bf1",
   "metadata": {},
   "outputs": [
    {
     "name": "stderr",
     "output_type": "stream",
     "text": [
      "[Stage 5:=======================================>                (26 + 11) / 37]\r"
     ]
    },
    {
     "name": "stdout",
     "output_type": "stream",
     "text": [
      "+------------+--------+\n",
      "|service_type|count(1)|\n",
      "+------------+--------+\n",
      "|       green| 2304517|\n",
      "|      yellow|39649199|\n",
      "+------------+--------+\n",
      "\n"
     ]
    },
    {
     "name": "stderr",
     "output_type": "stream",
     "text": [
      "                                                                                \r"
     ]
    }
   ],
   "source": [
    "spark.sql(\"\"\"\n",
    "SELECT\n",
    "    service_type,\n",
    "    count(1)\n",
    "FROM\n",
    "    trips_data\n",
    "GROUP BY \n",
    "    service_type\n",
    "\"\"\").show()"
   ]
  },
  {
   "cell_type": "code",
   "execution_count": 16,
   "id": "b2ee7038",
   "metadata": {},
   "outputs": [],
   "source": [
    "df_result = spark.sql(\"\"\"\n",
    "SELECT \n",
    "    -- Reveneue grouping \n",
    "    PULocationID AS revenue_zone,\n",
    "    date_trunc('month', pickup_datetime) AS revenue_month, \n",
    "    service_type, \n",
    "\n",
    "    -- Revenue calculation \n",
    "    SUM(fare_amount) AS revenue_monthly_fare,\n",
    "    SUM(extra) AS revenue_monthly_extra,\n",
    "    SUM(mta_tax) AS revenue_monthly_mta_tax,\n",
    "    SUM(tip_amount) AS revenue_monthly_tip_amount,\n",
    "    SUM(tolls_amount) AS revenue_monthly_tolls_amount,\n",
    "    SUM(improvement_surcharge) AS revenue_monthly_improvement_surcharge,\n",
    "    SUM(total_amount) AS revenue_monthly_total_amount,\n",
    "    SUM(congestion_surcharge) AS revenue_monthly_congestion_surcharge,\n",
    "\n",
    "    -- Additional calculations\n",
    "    AVG(passenger_count) AS avg_montly_passenger_count,\n",
    "    AVG(trip_distance) AS avg_montly_trip_distance\n",
    "FROM\n",
    "    trips_data\n",
    "GROUP BY\n",
    "    1, 2, 3\n",
    "\"\"\")"
   ]
  },
  {
   "cell_type": "code",
   "execution_count": 17,
   "id": "f67eeb92",
   "metadata": {},
   "outputs": [
    {
     "name": "stderr",
     "output_type": "stream",
     "text": [
      "                                                                                \r"
     ]
    }
   ],
   "source": [
    "df_result.coalesce(1).write.parquet('data/report/revenue/', mode='overwrite')"
   ]
  },
  {
   "cell_type": "code",
   "execution_count": 18,
   "id": "f56a885d",
   "metadata": {},
   "outputs": [
    {
     "data": {
      "text/plain": "   revenue_zone       revenue_month service_type  revenue_monthly_fare  \\\n0            47 2019-12-31 23:00:00        green              16630.15   \n1            53 2019-12-31 23:00:00        green               6281.65   \n2           128 2019-12-31 23:00:00        green               3261.33   \n3           150 2019-12-31 23:00:00        green               9996.16   \n4           263 2019-12-31 23:00:00        green               8987.34   \n\n   revenue_monthly_extra  revenue_monthly_mta_tax  revenue_monthly_tip_amount  \\\n0                1192.00                   160.00                       42.23   \n1                 330.25                    49.00                       39.22   \n2                 158.00                    35.50                       82.25   \n3                 627.50                    98.00                       97.87   \n4                 561.00                   124.55                      315.27   \n\n   revenue_monthly_tolls_amount  revenue_monthly_improvement_surcharge  \\\n0                        523.00                                  210.9   \n1                        102.50                                   68.4   \n2                        104.04                                   34.5   \n3                        149.14                                  109.5   \n4                        335.06                                  127.2   \n\n   revenue_monthly_total_amount  revenue_monthly_congestion_surcharge  \\\n0                      18770.43                                 11.00   \n1                       6873.77                                  2.75   \n2                       3714.02                                 27.50   \n3                      11082.07                                  0.00   \n4                      10684.17                                239.25   \n\n   avg_montly_passenger_count  avg_montly_trip_distance  \n0                    1.177686                  4.645000  \n1                    1.241758                  6.929711  \n2                    1.016949                  7.023280  \n3                    1.114754                  5.393589  \n4                    1.429348                  5.264249  ",
      "text/html": "<div>\n<style scoped>\n    .dataframe tbody tr th:only-of-type {\n        vertical-align: middle;\n    }\n\n    .dataframe tbody tr th {\n        vertical-align: top;\n    }\n\n    .dataframe thead th {\n        text-align: right;\n    }\n</style>\n<table border=\"1\" class=\"dataframe\">\n  <thead>\n    <tr style=\"text-align: right;\">\n      <th></th>\n      <th>revenue_zone</th>\n      <th>revenue_month</th>\n      <th>service_type</th>\n      <th>revenue_monthly_fare</th>\n      <th>revenue_monthly_extra</th>\n      <th>revenue_monthly_mta_tax</th>\n      <th>revenue_monthly_tip_amount</th>\n      <th>revenue_monthly_tolls_amount</th>\n      <th>revenue_monthly_improvement_surcharge</th>\n      <th>revenue_monthly_total_amount</th>\n      <th>revenue_monthly_congestion_surcharge</th>\n      <th>avg_montly_passenger_count</th>\n      <th>avg_montly_trip_distance</th>\n    </tr>\n  </thead>\n  <tbody>\n    <tr>\n      <th>0</th>\n      <td>47</td>\n      <td>2019-12-31 23:00:00</td>\n      <td>green</td>\n      <td>16630.15</td>\n      <td>1192.00</td>\n      <td>160.00</td>\n      <td>42.23</td>\n      <td>523.00</td>\n      <td>210.9</td>\n      <td>18770.43</td>\n      <td>11.00</td>\n      <td>1.177686</td>\n      <td>4.645000</td>\n    </tr>\n    <tr>\n      <th>1</th>\n      <td>53</td>\n      <td>2019-12-31 23:00:00</td>\n      <td>green</td>\n      <td>6281.65</td>\n      <td>330.25</td>\n      <td>49.00</td>\n      <td>39.22</td>\n      <td>102.50</td>\n      <td>68.4</td>\n      <td>6873.77</td>\n      <td>2.75</td>\n      <td>1.241758</td>\n      <td>6.929711</td>\n    </tr>\n    <tr>\n      <th>2</th>\n      <td>128</td>\n      <td>2019-12-31 23:00:00</td>\n      <td>green</td>\n      <td>3261.33</td>\n      <td>158.00</td>\n      <td>35.50</td>\n      <td>82.25</td>\n      <td>104.04</td>\n      <td>34.5</td>\n      <td>3714.02</td>\n      <td>27.50</td>\n      <td>1.016949</td>\n      <td>7.023280</td>\n    </tr>\n    <tr>\n      <th>3</th>\n      <td>150</td>\n      <td>2019-12-31 23:00:00</td>\n      <td>green</td>\n      <td>9996.16</td>\n      <td>627.50</td>\n      <td>98.00</td>\n      <td>97.87</td>\n      <td>149.14</td>\n      <td>109.5</td>\n      <td>11082.07</td>\n      <td>0.00</td>\n      <td>1.114754</td>\n      <td>5.393589</td>\n    </tr>\n    <tr>\n      <th>4</th>\n      <td>263</td>\n      <td>2019-12-31 23:00:00</td>\n      <td>green</td>\n      <td>8987.34</td>\n      <td>561.00</td>\n      <td>124.55</td>\n      <td>315.27</td>\n      <td>335.06</td>\n      <td>127.2</td>\n      <td>10684.17</td>\n      <td>239.25</td>\n      <td>1.429348</td>\n      <td>5.264249</td>\n    </tr>\n  </tbody>\n</table>\n</div>"
     },
     "execution_count": 18,
     "metadata": {},
     "output_type": "execute_result"
    }
   ],
   "source": [
    "import pandas as pd\n",
    "\n",
    "df_result_pd = pd.read_parquet('data/report/revenue/')\n",
    "df_result_pd.head()"
   ]
  }
 ],
 "metadata": {
  "kernelspec": {
   "display_name": "Python 3 (ipykernel)",
   "language": "python",
   "name": "python3"
  },
  "language_info": {
   "codemirror_mode": {
    "name": "ipython",
    "version": 3
   },
   "file_extension": ".py",
   "mimetype": "text/x-python",
   "name": "python",
   "nbconvert_exporter": "python",
   "pygments_lexer": "ipython3",
   "version": "3.9.7"
  }
 },
 "nbformat": 4,
 "nbformat_minor": 5
}
